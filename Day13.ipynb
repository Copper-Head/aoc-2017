{
 "cells": [
  {
   "cell_type": "code",
   "execution_count": 36,
   "metadata": {},
   "outputs": [],
   "source": [
    "def is_caught(picosecond, scanner_range):\n",
    "    if picosecond == 0 or scanner_range == 1:\n",
    "        return True\n",
    "    if picosecond == 1 and scanner_range != 1:\n",
    "        return False\n",
    "    return picosecond % ((scanner_range - 1) * 2) == 0"
   ]
  },
  {
   "cell_type": "code",
   "execution_count": 37,
   "metadata": {},
   "outputs": [],
   "source": [
    "assert is_caught(0, 3) is True\n",
    "assert is_caught(1, 2) is False\n",
    "assert is_caught(4, 4) is False\n",
    "assert is_caught(6, 4) is True\n",
    "\n",
    "\n",
    "assert is_caught(1, 1) is True\n",
    "assert is_caught(2, 1) is True\n",
    "assert is_caught(3, 1) is True\n",
    "assert is_caught(4, 1) is True\n",
    "assert is_caught(5, 1) is True"
   ]
  },
  {
   "cell_type": "code",
   "execution_count": 38,
   "metadata": {},
   "outputs": [],
   "source": [
    "def trip_severity(firewall):\n",
    "    return sum(depth * scanner_range for depth, scanner_range in firewall if is_caught(depth, scanner_range))"
   ]
  },
  {
   "cell_type": "code",
   "execution_count": 44,
   "metadata": {},
   "outputs": [],
   "source": [
    "example_firewall = [\n",
    "    (0, 3),\n",
    "    (1, 2),\n",
    "    (4, 4),\n",
    "    (6, 4)\n",
    "]\n",
    "\n",
    "assert trip_severity(example_firewall) == 24"
   ]
  },
  {
   "cell_type": "code",
   "execution_count": 40,
   "metadata": {},
   "outputs": [],
   "source": [
    "with open('day/13/input') as fh:\n",
    "    layers = (line.strip().split(\": \") for line in fh)\n",
    "    firewall = [(int(d), int(r)) for d, r in layers]"
   ]
  },
  {
   "cell_type": "code",
   "execution_count": 41,
   "metadata": {},
   "outputs": [
    {
     "data": {
      "text/plain": [
       "[(0, 4, True),\n",
       " (1, 2, False),\n",
       " (2, 3, False),\n",
       " (4, 4, False),\n",
       " (6, 8, False),\n",
       " (8, 5, True),\n",
       " (10, 6, True),\n",
       " (12, 6, False),\n",
       " (14, 10, False),\n",
       " (16, 8, False),\n",
       " (18, 6, False),\n",
       " (20, 9, False),\n",
       " (22, 8, False),\n",
       " (24, 6, False),\n",
       " (26, 8, False),\n",
       " (28, 8, True),\n",
       " (30, 12, False),\n",
       " (32, 12, False),\n",
       " (34, 12, False),\n",
       " (36, 12, False),\n",
       " (38, 10, False),\n",
       " (40, 12, False),\n",
       " (42, 12, False),\n",
       " (44, 14, False),\n",
       " (46, 8, False),\n",
       " (48, 14, False),\n",
       " (50, 12, False),\n",
       " (52, 14, True),\n",
       " (54, 14, False),\n",
       " (58, 14, False),\n",
       " (60, 12, False),\n",
       " (62, 14, False),\n",
       " (64, 14, False),\n",
       " (66, 12, True),\n",
       " (68, 12, False),\n",
       " (72, 14, False),\n",
       " (74, 18, False),\n",
       " (76, 17, False),\n",
       " (86, 14, False),\n",
       " (88, 20, False),\n",
       " (92, 14, False),\n",
       " (94, 14, False),\n",
       " (96, 18, False),\n",
       " (98, 18, False)]"
      ]
     },
     "execution_count": 41,
     "metadata": {},
     "output_type": "execute_result"
    }
   ],
   "source": [
    "[(d, r, is_caught(d, r)) for d, r in firewall]"
   ]
  },
  {
   "cell_type": "code",
   "execution_count": 42,
   "metadata": {},
   "outputs": [
    {
     "data": {
      "text/plain": [
       "1844"
      ]
     },
     "execution_count": 42,
     "metadata": {},
     "output_type": "execute_result"
    }
   ],
   "source": [
    "trip_severity(firewall)"
   ]
  },
  {
   "cell_type": "code",
   "execution_count": 47,
   "metadata": {},
   "outputs": [],
   "source": [
    "def is_caught_at_all(firewall, delay):\n",
    "    return any(is_caught(depth + delay, scanner_range) for depth, scanner_range in firewall)\n",
    "\n",
    "assert is_caught_at_all(example_firewall, 0) is True\n",
    "\n",
    "assert is_caught_at_all(example_firewall, 10) is False"
   ]
  },
  {
   "cell_type": "code",
   "execution_count": 51,
   "metadata": {},
   "outputs": [],
   "source": [
    "def brute_force_safe_passage(firewall):\n",
    "    delay = 0\n",
    "    got_caught = is_caught_at_all(firewall, delay)\n",
    "    while got_caught:\n",
    "        delay += 1\n",
    "        got_caught = is_caught_at_all(firewall, delay)\n",
    "    return delay\n",
    "\n",
    "assert brute_force_safe_passage(example_firewall) == 10"
   ]
  },
  {
   "cell_type": "code",
   "execution_count": 54,
   "metadata": {},
   "outputs": [
    {
     "data": {
      "text/plain": [
       "3897604"
      ]
     },
     "execution_count": 54,
     "metadata": {},
     "output_type": "execute_result"
    }
   ],
   "source": [
    "brute_force_safe_passage(firewall)"
   ]
  }
 ],
 "metadata": {
  "kernelspec": {
   "display_name": "Python 3",
   "language": "python",
   "name": "python3"
  },
  "language_info": {
   "codemirror_mode": {
    "name": "ipython",
    "version": 3
   },
   "file_extension": ".py",
   "mimetype": "text/x-python",
   "name": "python",
   "nbconvert_exporter": "python",
   "pygments_lexer": "ipython3",
   "version": "3.6.6"
  }
 },
 "nbformat": 4,
 "nbformat_minor": 2
}
