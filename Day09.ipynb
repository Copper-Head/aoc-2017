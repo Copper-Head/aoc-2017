{
 "cells": [
  {
   "cell_type": "code",
   "execution_count": 16,
   "metadata": {
    "collapsed": true
   },
   "outputs": [],
   "source": [
    "def count_groups(stream):\n",
    "    stack = []\n",
    "    count = 0\n",
    "    normal_state = True\n",
    "    stream = iter(stream)\n",
    "    for s in stream:\n",
    "        if normal_state:\n",
    "            if s == \"{\":\n",
    "                stack.append(None)\n",
    "            elif s == \"}\":\n",
    "                count += len(stack)\n",
    "                stack.pop()\n",
    "            elif s == \"<\":\n",
    "                # garbage starts\n",
    "                normal_state = False\n",
    "        else:\n",
    "            if s == \"!\":\n",
    "                next(stream)\n",
    "            elif s == \">\":\n",
    "                normal_state = True\n",
    "    return count"
   ]
  },
  {
   "cell_type": "code",
   "execution_count": 17,
   "metadata": {},
   "outputs": [],
   "source": [
    "assert count_groups(\"{}\") == 1\n",
    "\n",
    "assert count_groups(\"{{{}}}\") == 6\n",
    "\n",
    "assert count_groups(\"{{{}}}\") == 6\n",
    "\n",
    "assert count_groups(\"{{},{}}\") == 5\n",
    "\n",
    "assert count_groups(\"{{{},{},{{}}}}\") == 16\n",
    "\n",
    "assert count_groups(\"{<a>,<a>,<a>,<a>}\") == 1\n",
    "\n",
    "assert count_groups(\"{<a>,<a>,<a>,<a>}\") == 1\n",
    "\n",
    "assert count_groups(\"{{<ab>},{<ab>},{<ab>},{<ab>}}\") == 9\n",
    "\n",
    "assert count_groups(\"{{<!!>},{<!!>},{<!!>},{<!!>}}\") == 9\n",
    "\n",
    "assert count_groups(\"{{<a!>},{<a!>},{<a!>},{<ab>}}\") == 3"
   ]
  },
  {
   "cell_type": "code",
   "execution_count": 44,
   "metadata": {},
   "outputs": [],
   "source": [
    "with open('day/09/input') as fh:\n",
    "    chars = fh.read()"
   ]
  },
  {
   "cell_type": "code",
   "execution_count": 45,
   "metadata": {},
   "outputs": [
    {
     "data": {
      "text/plain": [
       "14421"
      ]
     },
     "execution_count": 45,
     "metadata": {},
     "output_type": "execute_result"
    }
   ],
   "source": [
    "count_groups(chars)"
   ]
  },
  {
   "cell_type": "code",
   "execution_count": 51,
   "metadata": {
    "collapsed": true
   },
   "outputs": [],
   "source": [
    "def count_garbage(stream):\n",
    "    garbage_chars = []\n",
    "    in_garbage = False\n",
    "    stream = iter(stream)\n",
    "    for s in stream:\n",
    "        if in_garbage:\n",
    "            if s == \"!\":\n",
    "                next(stream)\n",
    "            elif s == \">\":\n",
    "                in_garbage = False\n",
    "            else:\n",
    "                garbage_chars.append(s)\n",
    "        \n",
    "        else:\n",
    "            if s == \"<\":\n",
    "                in_garbage = True\n",
    "    return len(garbage_chars)"
   ]
  },
  {
   "cell_type": "code",
   "execution_count": 54,
   "metadata": {},
   "outputs": [],
   "source": [
    "assert count_garbage(\"{{<a!>},{<a!>},{<a!>},{<ab>}<hel!p>}\") == 20\n",
    "\n",
    "assert count_garbage(\"<random characters>\") == 17"
   ]
  },
  {
   "cell_type": "code",
   "execution_count": 55,
   "metadata": {},
   "outputs": [],
   "source": [
    "assert count_garbage(\"<{!>}>\") == 2\n",
    "assert count_garbage(\"<!!>\") == 0\n",
    "assert count_garbage(\"<!!!>>\") == 0\n",
    "assert count_garbage(\"<{o'i!a,<{i<a>\") == 10, count_garbage(\"<{o'i!a,<{i<a>\")"
   ]
  },
  {
   "cell_type": "code",
   "execution_count": 56,
   "metadata": {},
   "outputs": [
    {
     "data": {
      "text/plain": [
       "6817"
      ]
     },
     "execution_count": 56,
     "metadata": {},
     "output_type": "execute_result"
    }
   ],
   "source": [
    "count_garbage(chars)"
   ]
  }
 ],
 "metadata": {
  "kernelspec": {
   "display_name": "Python 3",
   "language": "python",
   "name": "python3"
  },
  "language_info": {
   "codemirror_mode": {
    "name": "ipython",
    "version": 3
   },
   "file_extension": ".py",
   "mimetype": "text/x-python",
   "name": "python",
   "nbconvert_exporter": "python",
   "pygments_lexer": "ipython3",
   "version": "3.6.2"
  }
 },
 "nbformat": 4,
 "nbformat_minor": 2
}
