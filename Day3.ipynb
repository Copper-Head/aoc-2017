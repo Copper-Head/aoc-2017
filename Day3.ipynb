{
 "cells": [
  {
   "cell_type": "markdown",
   "metadata": {},
   "source": [
    "# Part 1 (Refactored)"
   ]
  },
  {
   "cell_type": "code",
   "execution_count": 1,
   "metadata": {
    "collapsed": true
   },
   "outputs": [],
   "source": [
    "from functools import partial\n",
    "\n",
    "\n",
    "def manhattan_dist(coord1, coord2):\n",
    "    (x1, y1), (x2, y2) = coord1, coord2\n",
    "    return abs(x1 - x2) + abs(y1 - y2)\n",
    "\n",
    "dist_to_origin = partial(manhattan_dist, (0, 0))\n",
    "\n",
    "\n",
    "def find_layer(locate_me):\n",
    "    layer_number = current_max = prev_max = 1\n",
    "    while current_max < locate_me:\n",
    "        layer_number += 1\n",
    "        prev_max, current_max = current_max, (layer_number * 2 - 1) ** 2\n",
    "    return layer_number, current_max, prev_max\n",
    "\n",
    "\n",
    "def layer_coordinates(layer_num):\n",
    "    coord_range = list(range(-(layer_num-1), layer_num))\n",
    "    # coordinates are built in a spiral\n",
    "    return ([(coord_range[-1], y) for y in coord_range[1:]]\n",
    "            + [(x, coord_range[-1]) for x in reversed(coord_range[:-1])]\n",
    "            + [(coord_range[0], y) for y in reversed(coord_range[:-1])]\n",
    "            + [(x, coord_range[0]) for x in coord_range[1:]])\n",
    "\n",
    "\n",
    "def by_value(layer_num, layer_max, prev_max):\n",
    "    return dict(zip(range(int(prev_max) + 1, int(layer_max) + 1), layer_coordinates(layer_num)))\n",
    "\n",
    "\n",
    "def spiral_distance(locate_me):\n",
    "    # short-circuit case\n",
    "    if locate_me == 1:\n",
    "        return (0, 0)\n",
    "    return dist_to_origin(by_value(*find_layer(locate_me))[locate_me])"
   ]
  },
  {
   "cell_type": "code",
   "execution_count": 33,
   "metadata": {},
   "outputs": [
    {
     "data": {
      "text/plain": [
       "31"
      ]
     },
     "execution_count": 33,
     "metadata": {},
     "output_type": "execute_result"
    }
   ],
   "source": [
    "spiral_distance(1024)"
   ]
  },
  {
   "cell_type": "markdown",
   "metadata": {},
   "source": [
    "# Part 2 \n",
    "(requires `numpy`!!)"
   ]
  },
  {
   "cell_type": "code",
   "execution_count": 3,
   "metadata": {
    "collapsed": true
   },
   "outputs": [],
   "source": [
    "import numpy as np\n",
    "\n",
    "from math import floor\n",
    "\n",
    "from itertools import chain\n",
    "\n",
    "def safe_neihborhood(maximum, index):\n",
    "    \"\"\"We don't want to loop around the grid when selecting neighborhoods.\"\"\"\n",
    "    return slice(max(0, index - 1), min(maximum, index + 2))"
   ]
  },
  {
   "cell_type": "code",
   "execution_count": 124,
   "metadata": {},
   "outputs": [
    {
     "name": "stdout",
     "output_type": "stream",
     "text": [
      "363010\n"
     ]
    }
   ],
   "source": [
    "goal = 361527\n",
    "# This overestimates the size of the needed grid, but it's not much of a waste\n",
    "layer = find_layer(goal)[0]\n",
    "size = layer * 2 - 1\n",
    "grid = np.zeros((size, size), dtype='int')\n",
    "neighbors = partial(safe_neihborhood, grid.shape[0])\n",
    "half = floor(size / 2)\n",
    "\n",
    "grid[half, half] = 1\n",
    "\n",
    "for x, y in chain.from_iterable(layer_coordinates(l) for l in range(2, layer + 1)):\n",
    "    x, y = x + half, y + half\n",
    "    value = grid[neighbors(x), neighbors(y)].sum()\n",
    "    grid[x, y] = value\n",
    "    if value > goal:\n",
    "        print(value)\n",
    "        break\n",
    "    "
   ]
  }
 ],
 "metadata": {
  "kernelspec": {
   "display_name": "Python 3",
   "language": "python",
   "name": "python3"
  },
  "language_info": {
   "codemirror_mode": {
    "name": "ipython",
    "version": 3
   },
   "file_extension": ".py",
   "mimetype": "text/x-python",
   "name": "python",
   "nbconvert_exporter": "python",
   "pygments_lexer": "ipython3",
   "version": "3.6.2"
  }
 },
 "nbformat": 4,
 "nbformat_minor": 2
}
