{
 "cells": [
  {
   "cell_type": "markdown",
   "metadata": {},
   "source": [
    "# Part 1"
   ]
  },
  {
   "cell_type": "code",
   "execution_count": 1,
   "metadata": {
    "collapsed": true
   },
   "outputs": [],
   "source": [
    "from itertools import cycle, chain"
   ]
  },
  {
   "cell_type": "code",
   "execution_count": 2,
   "metadata": {
    "collapsed": true
   },
   "outputs": [],
   "source": [
    "def wrap_around(current_indx, n_items):\n",
    "    return chain(range(current_indx + 1, n_items), cycle(range(n_items)))\n",
    "\n",
    "def max_argmax(items: tuple):\n",
    "    max_val, max_pos = items[0], 0\n",
    "    for pos, val in enumerate(items[1:], start=1):\n",
    "        max_val, max_pos = (val, pos) if val > max_val else (max_val, max_pos)\n",
    "    return max_val, max_pos\n",
    "\n",
    "def reallocate(banks: tuple):\n",
    "    max_val, max_pos = max_argmax(banks)\n",
    "    reallocated = banks[:max_pos] + (0,) + banks[max_pos + 1:]\n",
    "    for _, indx in zip(range(max_val), wrap_around(max_pos, len(banks))):\n",
    "        reallocated = reallocated[:indx] + (reallocated[indx] + 1,) + reallocated[indx+1:]\n",
    "    return reallocated"
   ]
  },
  {
   "cell_type": "code",
   "execution_count": 7,
   "metadata": {
    "collapsed": true
   },
   "outputs": [],
   "source": [
    "def detect_realloc_cycle(starting_blocks):\n",
    "    shifted_blocks = starting_blocks\n",
    "    seen = set()\n",
    "    n_shifts = 0\n",
    "    while shifted_blocks not in seen:\n",
    "        seen.add(shifted_blocks)\n",
    "        shifted_blocks = reallocate(shifted_blocks)\n",
    "        n_shifts += 1\n",
    "    return n_shifts"
   ]
  },
  {
   "cell_type": "code",
   "execution_count": 8,
   "metadata": {},
   "outputs": [
    {
     "data": {
      "text/plain": [
       "5"
      ]
     },
     "execution_count": 8,
     "metadata": {},
     "output_type": "execute_result"
    }
   ],
   "source": [
    "detect_realloc_cycle((0, 2, 7, 0))"
   ]
  },
  {
   "cell_type": "code",
   "execution_count": 4,
   "metadata": {},
   "outputs": [
    {
     "name": "stdout",
     "output_type": "stream",
     "text": [
      "6681\n"
     ]
    }
   ],
   "source": [
    "with open('day/6/input') as fh:\n",
    "    for line in fh:\n",
    "        print(detect_realloc_cycle(tuple(int(i) for i in line.strip().split())))"
   ]
  },
  {
   "cell_type": "markdown",
   "metadata": {},
   "source": [
    "# Part 2"
   ]
  },
  {
   "cell_type": "code",
   "execution_count": 9,
   "metadata": {
    "collapsed": true
   },
   "outputs": [],
   "source": [
    "# Modified to return first repetition\n",
    "def detect_realloc_cycle2(starting_blocks):\n",
    "    shifted_blocks = starting_blocks\n",
    "    seen = set()\n",
    "    n_shifts = 0\n",
    "    while shifted_blocks not in seen:\n",
    "        seen.add(shifted_blocks)\n",
    "        shifted_blocks = reallocate(shifted_blocks)\n",
    "        n_shifts += 1\n",
    "    return n_shifts, shifted_blocks"
   ]
  },
  {
   "cell_type": "code",
   "execution_count": 11,
   "metadata": {},
   "outputs": [
    {
     "data": {
      "text/plain": [
       "(5, (2, 4, 1, 2))"
      ]
     },
     "execution_count": 11,
     "metadata": {},
     "output_type": "execute_result"
    }
   ],
   "source": [
    "detect_realloc_cycle2((0, 2, 7, 0))"
   ]
  },
  {
   "cell_type": "code",
   "execution_count": 14,
   "metadata": {
    "collapsed": true
   },
   "outputs": [],
   "source": [
    "with open(\"day/6/input\") as fh:\n",
    "    data = tuple(map(int, fh.read().strip().split()))"
   ]
  },
  {
   "cell_type": "code",
   "execution_count": 16,
   "metadata": {},
   "outputs": [],
   "source": [
    "_, first_repeat = detect_realloc_cycle2(data)\n",
    "cycles, _ = detect_realloc_cycle2(first_repeat)"
   ]
  },
  {
   "cell_type": "code",
   "execution_count": 17,
   "metadata": {},
   "outputs": [
    {
     "data": {
      "text/plain": [
       "2392"
      ]
     },
     "execution_count": 17,
     "metadata": {},
     "output_type": "execute_result"
    }
   ],
   "source": [
    "cycles"
   ]
  }
 ],
 "metadata": {
  "kernelspec": {
   "display_name": "Python 3",
   "language": "python",
   "name": "python3"
  },
  "language_info": {
   "codemirror_mode": {
    "name": "ipython",
    "version": 3
   },
   "file_extension": ".py",
   "mimetype": "text/x-python",
   "name": "python",
   "nbconvert_exporter": "python",
   "pygments_lexer": "ipython3",
   "version": "3.6.2"
  }
 },
 "nbformat": 4,
 "nbformat_minor": 2
}
