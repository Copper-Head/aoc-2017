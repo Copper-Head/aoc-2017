{
 "cells": [
  {
   "cell_type": "code",
   "execution_count": 14,
   "metadata": {},
   "outputs": [],
   "source": [
    "def parse_pipes(line):\n",
    "    source, destinations = line.split(\" <-> \")\n",
    "    return int(source), eval(f\"{{{destinations}}}\")"
   ]
  },
  {
   "cell_type": "code",
   "execution_count": 15,
   "metadata": {},
   "outputs": [],
   "source": [
    "assert parse_pipes(\"0 <-> 454, 528, 621, 1023, 1199\") == (0, {454, 528, 621, 1023, 1199})"
   ]
  },
  {
   "cell_type": "code",
   "execution_count": 18,
   "metadata": {},
   "outputs": [],
   "source": [
    "with open('day/12/input') as fh:\n",
    "    puzzle_progs = dict(parse_pipes(line) for line in fh)"
   ]
  },
  {
   "cell_type": "code",
   "execution_count": 20,
   "metadata": {},
   "outputs": [],
   "source": [
    "def group(prog_id, programs):\n",
    "    connected_programs = {prog_id}\n",
    "    to_collect = list(programs.get(prog_id, []))\n",
    "    while to_collect:\n",
    "        item = to_collect.pop()\n",
    "        connected_programs.add(item)\n",
    "        to_collect.extend(list(programs.get(item, {}) - connected_programs))\n",
    "    \n",
    "    return connected_programs\n",
    "\n",
    "\n",
    "progs = {0: {2}, 2: {0, 3, 4}, 3: {2, 4}, 4: {2, 3, 6}, 6: {4, 5}, 5: {6}, 1: {1}}\n",
    "\n",
    "assert len(group(0, progs)) == 6"
   ]
  },
  {
   "cell_type": "code",
   "execution_count": 21,
   "metadata": {},
   "outputs": [
    {
     "data": {
      "text/plain": [
       "378"
      ]
     },
     "execution_count": 21,
     "metadata": {},
     "output_type": "execute_result"
    }
   ],
   "source": [
    "len(group(0, puzzle_progs))"
   ]
  },
  {
   "cell_type": "code",
   "execution_count": null,
   "metadata": {},
   "outputs": [],
   "source": [
    "# we calculate the group for zero, take them out\n",
    "# "
   ]
  },
  {
   "cell_type": "code",
   "execution_count": 23,
   "metadata": {},
   "outputs": [],
   "source": [
    "def collect_groups(programs):\n",
    "    groups = []\n",
    "    grouped = set()\n",
    "    for program in programs:\n",
    "        if program not in grouped:\n",
    "            gr = group(program, programs)\n",
    "            groups.append(gr)\n",
    "            grouped |= gr\n",
    "    return groups"
   ]
  },
  {
   "cell_type": "code",
   "execution_count": 24,
   "metadata": {},
   "outputs": [
    {
     "data": {
      "text/plain": [
       "204"
      ]
     },
     "execution_count": 24,
     "metadata": {},
     "output_type": "execute_result"
    }
   ],
   "source": [
    "len(collect_groups(puzzle_progs))"
   ]
  }
 ],
 "metadata": {
  "kernelspec": {
   "display_name": "Python 3",
   "language": "python",
   "name": "python3"
  },
  "language_info": {
   "codemirror_mode": {
    "name": "ipython",
    "version": 3
   },
   "file_extension": ".py",
   "mimetype": "text/x-python",
   "name": "python",
   "nbconvert_exporter": "python",
   "pygments_lexer": "ipython3",
   "version": "3.6.6"
  }
 },
 "nbformat": 4,
 "nbformat_minor": 2
}
