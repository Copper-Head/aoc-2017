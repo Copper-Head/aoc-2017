{
 "cells": [
  {
   "cell_type": "markdown",
   "metadata": {},
   "source": [
    "# Part 1"
   ]
  },
  {
   "cell_type": "code",
   "execution_count": 1,
   "metadata": {},
   "outputs": [],
   "source": [
    "def multiply_first_second(circular_list):\n",
    "    return circular_list[0] * circular_list[1]\n",
    "\n",
    "\n",
    "def run_through(input_lengths, circular_list, current_position=0, skip=0):\n",
    "    for il in input_lengths:\n",
    "        circular_list = tie_knot(circular_list, il, current_position)\n",
    "        current_position = (current_position + il + skip) % len(circular_list)\n",
    "        skip += 1\n",
    "    return circular_list, current_position, skip\n",
    "\n",
    "\n",
    "def tie_knot(cl, length, current_pos=0):\n",
    "    assert length <= len(cl), f\"invalid length: {length}, compared to {len(cl)}\"\n",
    "    newl = cl[current_pos:] + cl[:current_pos]\n",
    "    newl[:length] = list(reversed(newl[:length]))\n",
    "    return newl[len(cl)-current_pos:] + newl[:len(cl)-current_pos]"
   ]
  },
  {
   "cell_type": "markdown",
   "metadata": {},
   "source": [
    "## Test Case from Description"
   ]
  },
  {
   "cell_type": "code",
   "execution_count": 2,
   "metadata": {
    "scrolled": true
   },
   "outputs": [
    {
     "data": {
      "text/plain": [
       "12"
      ]
     },
     "execution_count": 2,
     "metadata": {},
     "output_type": "execute_result"
    }
   ],
   "source": [
    "multiply_first_second(run_through([3, 4, 1, 5], list(range(5)))[0])"
   ]
  },
  {
   "cell_type": "code",
   "execution_count": 3,
   "metadata": {},
   "outputs": [
    {
     "data": {
      "text/plain": [
       "[2, 1, 0, 3, 4]"
      ]
     },
     "execution_count": 3,
     "metadata": {},
     "output_type": "execute_result"
    }
   ],
   "source": [
    "assert tie_knot([0, 1, 2, 3, 4], length=3, current_pos=0) == [2, 1, 0, 3, 4]\n",
    "\n",
    "tie_knot([0, 1, 2, 3, 4], length=3, current_pos=0)"
   ]
  },
  {
   "cell_type": "code",
   "execution_count": 4,
   "metadata": {},
   "outputs": [
    {
     "data": {
      "text/plain": [
       "[4, 3, 0, 1, 2]"
      ]
     },
     "execution_count": 4,
     "metadata": {},
     "output_type": "execute_result"
    }
   ],
   "source": [
    "assert tie_knot([2, 1, 0, 3, 4], length=4, current_pos=3) == [4, 3, 0, 1, 2]\n",
    "\n",
    "tie_knot([2, 1, 0, 3, 4], length=4, current_pos=3)"
   ]
  },
  {
   "cell_type": "code",
   "execution_count": 5,
   "metadata": {},
   "outputs": [],
   "source": [
    "assert tie_knot([4, 3, 0, 1, 2], length=1, current_pos=3) == [4, 3, 0, 1, 2]"
   ]
  },
  {
   "cell_type": "code",
   "execution_count": 6,
   "metadata": {},
   "outputs": [
    {
     "data": {
      "text/plain": [
       "[1, 0, 3, 4, 2]"
      ]
     },
     "execution_count": 6,
     "metadata": {},
     "output_type": "execute_result"
    }
   ],
   "source": [
    "assert tie_knot([4, 3, 0, 1, 2], length=5, current_pos=2) == [1, 0, 3, 4, 2]\n",
    "\n",
    "tie_knot([4, 3, 0, 1, 2], length=5, current_pos=2)"
   ]
  },
  {
   "cell_type": "code",
   "execution_count": 7,
   "metadata": {},
   "outputs": [
    {
     "data": {
      "text/plain": [
       "[3, 4, 2, 1, 0]"
      ]
     },
     "execution_count": 7,
     "metadata": {},
     "output_type": "execute_result"
    }
   ],
   "source": [
    "assert tie_knot([4, 3, 0, 1, 2], length=5, current_pos=1) == [3, 4, 2, 1, 0]\n",
    "\n",
    "tie_knot([4, 3, 0, 1, 2], length=5, current_pos=1)"
   ]
  },
  {
   "cell_type": "markdown",
   "metadata": {},
   "source": [
    "## Puzzle Input Solution"
   ]
  },
  {
   "cell_type": "code",
   "execution_count": 8,
   "metadata": {},
   "outputs": [
    {
     "data": {
      "text/plain": [
       "19591"
      ]
     },
     "execution_count": 8,
     "metadata": {},
     "output_type": "execute_result"
    }
   ],
   "source": [
    "with open('day/10/input') as fh:\n",
    "    input_lengths = [int(length) for length in fh.read().strip().split(\",\")]\n",
    "\n",
    "multiply_first_second(run_through(input_lengths, list(range(256)))[0])"
   ]
  },
  {
   "cell_type": "markdown",
   "metadata": {},
   "source": [
    "## Developing step-wise"
   ]
  },
  {
   "cell_type": "code",
   "execution_count": 9,
   "metadata": {},
   "outputs": [
    {
     "data": {
      "text/plain": [
       "[1, 2, 3, 6, 7, 8]"
      ]
     },
     "execution_count": 9,
     "metadata": {},
     "output_type": "execute_result"
    }
   ],
   "source": [
    "al = [1, 2, 3, 6, 7, 8]\n",
    "\n",
    "al"
   ]
  },
  {
   "cell_type": "code",
   "execution_count": 10,
   "metadata": {},
   "outputs": [],
   "source": [
    "pos = 2\n",
    "length = 2"
   ]
  },
  {
   "cell_type": "code",
   "execution_count": 11,
   "metadata": {},
   "outputs": [
    {
     "data": {
      "text/plain": [
       "[3, 6, 7, 8, 1, 2]"
      ]
     },
     "execution_count": 11,
     "metadata": {},
     "output_type": "execute_result"
    }
   ],
   "source": [
    "newl = al[pos:] + al[:pos]\n",
    "newl"
   ]
  },
  {
   "cell_type": "code",
   "execution_count": 12,
   "metadata": {},
   "outputs": [
    {
     "data": {
      "text/plain": [
       "[6, 3, 7, 8, 1, 2]"
      ]
     },
     "execution_count": 12,
     "metadata": {},
     "output_type": "execute_result"
    }
   ],
   "source": [
    "newl[:length] = list(reversed(newl[:length]))\n",
    "newl"
   ]
  },
  {
   "cell_type": "code",
   "execution_count": 13,
   "metadata": {},
   "outputs": [
    {
     "data": {
      "text/plain": [
       "[1, 2, 6, 3, 7, 8]"
      ]
     },
     "execution_count": 13,
     "metadata": {},
     "output_type": "execute_result"
    }
   ],
   "source": [
    "newl[len(al)-pos:] + newl[:len(al)-pos]"
   ]
  },
  {
   "cell_type": "markdown",
   "metadata": {},
   "source": [
    "# Part 2\n",
    "\n",
    "- Take in a sequence of string chars, convert them to their ascii codes, add the suffix\n",
    "- run the `run_through` function on this sequence 64 times, preserving the sequence, position, skip value between \"rounds\"\n",
    "- convert the resulting re-shuffled list to a \"dense hash\""
   ]
  },
  {
   "cell_type": "code",
   "execution_count": 14,
   "metadata": {},
   "outputs": [],
   "source": [
    "def convert_to_ascii(iterable):\n",
    "    return [ord(c) for c in iterable]\n",
    "\n",
    "assert convert_to_ascii(\"1,2,3\") == [49,44,50,44,51]\n",
    "\n",
    "\n",
    "def make_lengths(input_str):\n",
    "    return convert_to_ascii(input_str) + [17, 31, 73, 47, 23]\n",
    "\n",
    "assert make_lengths(\"1,2,3\") == [49,44,50,44,51,17,31,73,47,23]"
   ]
  },
  {
   "cell_type": "code",
   "execution_count": 15,
   "metadata": {},
   "outputs": [],
   "source": [
    "from itertools import accumulate\n",
    "from more_itertools import last, windowed\n",
    "from operator import xor\n",
    "\n",
    "\n",
    "def make_dense_hash(sparse):\n",
    "    return [\n",
    "        last(accumulate(grp, xor)) for grp in windowed(sparse, 16, step=16)\n",
    "    ]\n",
    "\n",
    "assert make_dense_hash(range(256)) == [0] * 16\n",
    "assert last(accumulate([65, 27, 9, 1, 4, 3, 40, 50, 91, 7, 6, 0, 2, 5, 68, 22], xor)) == 64\n",
    "\n",
    "def convert_to_hex(dense_hash):\n",
    "    return \"\".join(\"{:02x}\".format(n) for n in dense_hash)\n",
    "\n",
    "assert convert_to_hex([64, 7, 255]) == '4007ff'"
   ]
  },
  {
   "cell_type": "code",
   "execution_count": 16,
   "metadata": {},
   "outputs": [],
   "source": [
    "def compute_hash(some_string):\n",
    "    input_lengths = make_lengths(some_string)\n",
    "    pos = skip = 0\n",
    "    circular_list = list(range(256))\n",
    "\n",
    "    for _ in range(64):\n",
    "        circular_list, pos, skip = run_through(input_lengths, circular_list, pos, skip)\n",
    "    \n",
    "    return convert_to_hex(make_dense_hash(circular_list))\n",
    "\n",
    "assert compute_hash(\"\") == \"a2582a3a0e66e6e86e3812dcb672a272\"\n",
    "assert compute_hash(\"1,2,3\") == \"3efbe78a8d82f29979031a4aa0b16a9d\"\n",
    "assert compute_hash(\"1,2,4\") == \"63960835bcdc130f0b66d7ff4f6a5a8e\""
   ]
  },
  {
   "cell_type": "markdown",
   "metadata": {},
   "source": [
    "## Solving the Puzzle"
   ]
  },
  {
   "cell_type": "code",
   "execution_count": 20,
   "metadata": {},
   "outputs": [
    {
     "data": {
      "text/plain": [
       "'62e2204d2ca4f4924f6e7a80f1288786'"
      ]
     },
     "execution_count": 20,
     "metadata": {},
     "output_type": "execute_result"
    }
   ],
   "source": [
    "with open(\"day/10/input\") as fh:\n",
    "    input_lengths = fh.read().strip()\n",
    "\n",
    "compute_hash(input_lengths)"
   ]
  },
  {
   "cell_type": "markdown",
   "metadata": {},
   "source": [
    "## What's Wrong with this?\n",
    "\n",
    "Total mystery why this doesn't work, but since the puzzle is solved, keeping this only for the record."
   ]
  },
  {
   "cell_type": "code",
   "execution_count": 17,
   "metadata": {},
   "outputs": [
    {
     "ename": "AssertionError",
     "evalue": "",
     "output_type": "error",
     "traceback": [
      "\u001b[0;31m---------------------------------------------------------------------------\u001b[0m",
      "\u001b[0;31mAssertionError\u001b[0m                            Traceback (most recent call last)",
      "\u001b[0;32m<ipython-input-17-829af33e6594>\u001b[0m in \u001b[0;36m<module>\u001b[0;34m\u001b[0m\n\u001b[0;32m----> 1\u001b[0;31m \u001b[0;32massert\u001b[0m \u001b[0mcompute_hash\u001b[0m\u001b[0;34m(\u001b[0m\u001b[0;34m\"AoC 2017\"\u001b[0m\u001b[0;34m)\u001b[0m \u001b[0;34m==\u001b[0m \u001b[0;34m\"a2582a3a0e66e6e86e3812dcb672a272\"\u001b[0m\u001b[0;34m\u001b[0m\u001b[0m\n\u001b[0m",
      "\u001b[0;31mAssertionError\u001b[0m: "
     ]
    }
   ],
   "source": [
    "assert compute_hash(\"AoC 2017\") == \"a2582a3a0e66e6e86e3812dcb672a272\"\n",
    "\n",
    "compute_hash(\"AoC 2017\")"
   ]
  },
  {
   "cell_type": "code",
   "execution_count": 19,
   "metadata": {},
   "outputs": [],
   "source": [
    "# Make sure `ord` does indeed convert stuff to ascii\n",
    "\n",
    "x = \"AoC 2017\"\n",
    "assert list(x.encode(\"ascii\")) == [ord(n) for n in x]"
   ]
  }
 ],
 "metadata": {
  "kernelspec": {
   "display_name": "Python 3",
   "language": "python",
   "name": "python3"
  },
  "language_info": {
   "codemirror_mode": {
    "name": "ipython",
    "version": 3
   },
   "file_extension": ".py",
   "mimetype": "text/x-python",
   "name": "python",
   "nbconvert_exporter": "python",
   "pygments_lexer": "ipython3",
   "version": "3.6.6"
  }
 },
 "nbformat": 4,
 "nbformat_minor": 2
}
