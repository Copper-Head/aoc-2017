{
 "cells": [
  {
   "cell_type": "code",
   "execution_count": 9,
   "metadata": {},
   "outputs": [],
   "source": [
    "from collections import namedtuple\n",
    "from functools import partial"
   ]
  },
  {
   "cell_type": "code",
   "execution_count": 10,
   "metadata": {},
   "outputs": [],
   "source": [
    "Point = namedtuple(\"Point\", 'x y z')\n",
    "\n",
    "def add_points(pt1, pt2):\n",
    "    return Point(*(c1 + c2 for c1, c2 in zip(pt1, pt2)))\n",
    "\n",
    "directions = {\n",
    "    \"n\": partial(add_points, (0, 1, -1)),\n",
    "    \"s\": partial(add_points, (0, -1, 1)),\n",
    "    \"ne\": partial(add_points, (1, 1, 0)),\n",
    "    \"nw\": partial(add_points, (-1, 0, -1)),\n",
    "    \"se\": partial(add_points, (1, 0, 1)),\n",
    "    \"sw\": partial(add_points, (-1, -1, 0))\n",
    "}"
   ]
  },
  {
   "cell_type": "code",
   "execution_count": 12,
   "metadata": {},
   "outputs": [],
   "source": [
    "with open(\"day/11/input\") as fh:\n",
    "    steps = fh.read().strip().split(\",\")"
   ]
  },
  {
   "cell_type": "code",
   "execution_count": 13,
   "metadata": {},
   "outputs": [
    {
     "data": {
      "text/plain": [
       "['n', 'ne', 'ne', 'se', 'se', 'se', 'se', 's', 'se', 'se']"
      ]
     },
     "execution_count": 13,
     "metadata": {},
     "output_type": "execute_result"
    }
   ],
   "source": [
    "steps[:10]"
   ]
  },
  {
   "cell_type": "code",
   "execution_count": 35,
   "metadata": {},
   "outputs": [],
   "source": [
    "def calculate_distance(steps):\n",
    "    coordinates = Point(0, 0, 0)\n",
    "    for step in steps:\n",
    "        coordinates = directions[step](coordinates)\n",
    "    return hex_distance\n",
    "\n",
    "def hex_distance(coordinates):\n",
    "    return max(abs(c) for c in coordinates)"
   ]
  },
  {
   "cell_type": "code",
   "execution_count": 30,
   "metadata": {},
   "outputs": [],
   "source": [
    "assert calculate_distance([\"ne\", \"ne\", \"ne\"]) == 3"
   ]
  },
  {
   "cell_type": "code",
   "execution_count": 31,
   "metadata": {},
   "outputs": [],
   "source": [
    "assert calculate_distance([\"ne\", \"ne\", \"sw\",\"sw\"]) == 0"
   ]
  },
  {
   "cell_type": "code",
   "execution_count": 32,
   "metadata": {},
   "outputs": [],
   "source": [
    "assert calculate_distance([\"ne\", \"ne\", \"s\",\"s\"]) == 2"
   ]
  },
  {
   "cell_type": "code",
   "execution_count": 33,
   "metadata": {},
   "outputs": [],
   "source": [
    "assert calculate_distance([\"se\",\"sw\",\"se\",\"sw\",\"sw\"]) == 3"
   ]
  },
  {
   "cell_type": "code",
   "execution_count": 34,
   "metadata": {},
   "outputs": [
    {
     "data": {
      "text/plain": [
       "812"
      ]
     },
     "execution_count": 34,
     "metadata": {},
     "output_type": "execute_result"
    }
   ],
   "source": [
    "calculate_distance(steps)"
   ]
  },
  {
   "cell_type": "code",
   "execution_count": 28,
   "metadata": {},
   "outputs": [
    {
     "data": {
      "text/plain": [
       "Point(x=-1, y=-3, z=2)"
      ]
     },
     "execution_count": 28,
     "metadata": {},
     "output_type": "execute_result"
    }
   ],
   "source": [
    "calculate_distance([\"se\",\"sw\",\"se\",\"sw\",\"sw\"])"
   ]
  },
  {
   "cell_type": "code",
   "execution_count": 17,
   "metadata": {},
   "outputs": [
    {
     "data": {
      "text/plain": [
       "Point(x=3, y=3, z=0)"
      ]
     },
     "execution_count": 17,
     "metadata": {},
     "output_type": "execute_result"
    }
   ],
   "source": [
    "coordinates"
   ]
  },
  {
   "cell_type": "code",
   "execution_count": 11,
   "metadata": {},
   "outputs": [
    {
     "data": {
      "text/plain": [
       "Point(x=0, y=1, z=-1)"
      ]
     },
     "execution_count": 11,
     "metadata": {},
     "output_type": "execute_result"
    }
   ],
   "source": [
    "directions['n']((0, 0, 0))"
   ]
  },
  {
   "cell_type": "code",
   "execution_count": 8,
   "metadata": {},
   "outputs": [
    {
     "data": {
      "text/plain": [
       "Point(x=1, y=0, z=0)"
      ]
     },
     "execution_count": 8,
     "metadata": {},
     "output_type": "execute_result"
    }
   ],
   "source": [
    "add_points((0, 0, 0), (1, 0, 0))"
   ]
  },
  {
   "cell_type": "code",
   "execution_count": 4,
   "metadata": {},
   "outputs": [
    {
     "data": {
      "text/plain": [
       "Point(x=0, y=0, z=0)"
      ]
     },
     "execution_count": 4,
     "metadata": {},
     "output_type": "execute_result"
    }
   ],
   "source": [
    "Point(*(0,0,0))"
   ]
  },
  {
   "cell_type": "code",
   "execution_count": 36,
   "metadata": {},
   "outputs": [
    {
     "data": {
      "text/plain": [
       "1603"
      ]
     },
     "execution_count": 36,
     "metadata": {},
     "output_type": "execute_result"
    }
   ],
   "source": [
    "coordinates = Point(0, 0, 0)\n",
    "path = []\n",
    "for step in steps:\n",
    "    coordinates = directions[step](coordinates)\n",
    "    path.append(coordinates)\n",
    "\n",
    "max(hex_distance(coord) for coord in path)"
   ]
  },
  {
   "cell_type": "markdown",
   "metadata": {},
   "source": [
    "north => y+, z-\n",
    "south => y-, z+ \n",
    "north-east => x+, y+\n",
    "north-west => x-, z-\n",
    "south-east => x+, z+\n",
    "south-west => x-, y-"
   ]
  }
 ],
 "metadata": {
  "kernelspec": {
   "display_name": "Python 3",
   "language": "python",
   "name": "python3"
  },
  "language_info": {
   "codemirror_mode": {
    "name": "ipython",
    "version": 3
   },
   "file_extension": ".py",
   "mimetype": "text/x-python",
   "name": "python",
   "nbconvert_exporter": "python",
   "pygments_lexer": "ipython3",
   "version": "3.6.6"
  }
 },
 "nbformat": 4,
 "nbformat_minor": 2
}
