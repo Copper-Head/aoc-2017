{
 "cells": [
  {
   "cell_type": "code",
   "execution_count": 1,
   "metadata": {
    "collapsed": true
   },
   "outputs": [],
   "source": [
    "from collections import defaultdict"
   ]
  },
  {
   "cell_type": "code",
   "execution_count": 2,
   "metadata": {
    "collapsed": true
   },
   "outputs": [],
   "source": [
    "# Sanity check of input data\n",
    "with open(\"day/8/input\") as fh:\n",
    "    for line in fh:\n",
    "        assert len(line.split()) == 7, \"This is the problematic line {}\".format(line)"
   ]
  },
  {
   "cell_type": "code",
   "execution_count": 3,
   "metadata": {
    "collapsed": true
   },
   "outputs": [],
   "source": [
    "registers = defaultdict(int)\n",
    "\n",
    "with open(\"day/8/input\") as fh:\n",
    "    for line in fh:\n",
    "        var, op, val, _, cond_var, comparison, cond_val = line.split()\n",
    "#         using registers as globals adds the \"__builtins__\" key!\n",
    "        if eval(cond_var + comparison + cond_val, None, registers):\n",
    "            val = int(val) if op == \"inc\" else -int(val)\n",
    "            registers[var] += val"
   ]
  },
  {
   "cell_type": "code",
   "execution_count": 4,
   "metadata": {},
   "outputs": [
    {
     "data": {
      "text/plain": [
       "6012"
      ]
     },
     "execution_count": 4,
     "metadata": {},
     "output_type": "execute_result"
    }
   ],
   "source": [
    "max(registers.values())"
   ]
  },
  {
   "cell_type": "markdown",
   "metadata": {},
   "source": [
    "# Part 2"
   ]
  },
  {
   "cell_type": "code",
   "execution_count": 5,
   "metadata": {
    "collapsed": true
   },
   "outputs": [],
   "source": [
    "registers = defaultdict(int)\n",
    "grand_maximum = 0\n",
    "with open(\"day/8/input\") as fh:\n",
    "    for line in fh:\n",
    "        var, op, val, _, cond_var, comparison, cond_val = line.split()\n",
    "        if eval(cond_var + comparison + cond_val, None, registers):\n",
    "            val = int(val) if op == \"inc\" else -int(val)\n",
    "            registers[var] += val\n",
    "            grand_maximum = max(grand_maximum, max(registers.values()))"
   ]
  },
  {
   "cell_type": "code",
   "execution_count": 6,
   "metadata": {},
   "outputs": [
    {
     "data": {
      "text/plain": [
       "6369"
      ]
     },
     "execution_count": 6,
     "metadata": {},
     "output_type": "execute_result"
    }
   ],
   "source": [
    "grand_maximum"
   ]
  }
 ],
 "metadata": {
  "kernelspec": {
   "display_name": "Python 3",
   "language": "python",
   "name": "python3"
  },
  "language_info": {
   "codemirror_mode": {
    "name": "ipython",
    "version": 3
   },
   "file_extension": ".py",
   "mimetype": "text/x-python",
   "name": "python",
   "nbconvert_exporter": "python",
   "pygments_lexer": "ipython3",
   "version": "3.6.2"
  }
 },
 "nbformat": 4,
 "nbformat_minor": 2
}
